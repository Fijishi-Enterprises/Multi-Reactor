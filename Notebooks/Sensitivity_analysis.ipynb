{
 "cells": [
  {
   "cell_type": "code",
   "execution_count": null,
   "metadata": {
    "colab": {},
    "colab_type": "code",
    "id": "yUfAvi3l4iEA"
   },
   "outputs": [],
   "source": [
    "from __future__ import division\n",
    "import numpy as np\n",
    "from scipy.integrate import solve_ivp\n",
    "from scipy import interpolate \n",
    "import matplotlib.pyplot as plt\n",
    "import pandas as pd\n",
    "import datetime\n",
    "from datetime import date\n",
    "import datetime\n",
    "from myfunctions_multi_scale import *\n",
    "%matplotlib inline"
   ]
  },
  {
   "cell_type": "code",
   "execution_count": null,
   "metadata": {},
   "outputs": [],
   "source": [
    "# Sensitivity analysis functions\n",
    "import SALib\n",
    "from SALib.sample import saltelli\n",
    "from SALib.analyze import sobol\n",
    "import seaborn as sns\n",
    "\n",
    "# sensitivity analysis is based on data from 2014 "
   ]
  },
  {
   "cell_type": "code",
   "execution_count": null,
   "metadata": {},
   "outputs": [],
   "source": [
    "# Import of I data\n",
    "# irradiance data is based on meteorological data from: https://ims.data.gov.il/he/ims/6 \n",
    "dFI = pd.read_csv('../data/ims_data_2014_umol_photons.csv',encoding= 'unicode_escape',header=None)\n",
    "days = list(range(1,366))"
   ]
  },
  {
   "cell_type": "code",
   "execution_count": null,
   "metadata": {},
   "outputs": [],
   "source": [
    "I_plot = np.zeros(24*365)\n",
    "light_hours = list(range(5,19)) #light hours defined according to longest days \n",
    "for day in days:\n",
    "    for hour in light_hours:\n",
    "        I_plot[(day - 1)*24 + hour] = float(dFI.iloc[day][hour-1])\n",
    "\n",
    "annual_hours = list(range(1,(366-1)*24+1))\n",
    "f0 = interpolate.interp1d(annual_hours, I_plot,kind = 'linear')"
   ]
  },
  {
   "cell_type": "code",
   "execution_count": null,
   "metadata": {},
   "outputs": [],
   "source": [
    "# T and light data\n",
    "\n",
    "x1 = pd.ExcelFile('../data/input.xlsx')\n",
    "\n",
    "dfT = x1.parse('T_multi-scale',header=None)\n",
    "# Temperatures are water temperatures, taken from:\n",
    "# Y. Suari, et al., Sandbar Breaches Control of the Biogeochemistry of a Micro-Estuary RIME-restoration of\n",
    "# Israeli micro estuaries. Front. Mar. Sci. (2019) \n",
    "\n",
    "days_reduced,hours_reduced = [],[]\n",
    "for i in range(1,13):\n",
    "    day = datetime.datetime(2014, i, 1)\n",
    "    days_reduced.append(int(day.strftime(\"%j\")))\n",
    "\n",
    "days_reduced.append(366)\n",
    "for j in range(1,13):\n",
    "    day = datetime.datetime(2014, j, 1)\n",
    "    hours_reduced.append((int(day.strftime(\"%j\"))-1)*24)\n",
    "hours_reduced.append((366-1)*24)\n",
    "T = []\n",
    "\n",
    "# assigmment of parameters to values:\n",
    "for key,val in zip(dfT.iloc[1:][0],dfT.iloc[1:][1]):\n",
    "    exec(key + '=val')\n",
    "    T.append(val)\n",
    "    print(key,val)\n",
    "T.append(T[0])\n",
    "days = list(range(1,366))\n",
    "\n",
    "\n",
    "# Interpolate T data (T_interp)\n",
    "\n",
    "f1 = interpolate.interp1d(hours_reduced, T,kind = 'cubic')\n",
    "\n",
    "T_interp = f1(annual_hours)\n",
    "\n",
    "\n",
    "fig, ax = plt.subplots(2,1,figsize=(16,10))\n",
    "xlabels = ['1 Jan', '1 February', '1 March', '1 April', '1 May', '1 June', '1 July', '1 August', '1 September', '1 October','1 November', '1 December']\n",
    "\n",
    "ax[0].plot(annual_hours,T_interp, 'r-')\n",
    "ax[1].plot(annual_hours,I_plot, 'b-', linewidth=0.5)\n",
    "\n",
    "ax[1].set_xlabel('Time',fontsize=14, weight=\"bold\")\n",
    "ax[0].set_ylabel('Temperature \\n[C]',fontsize=10, weight=\"bold\")\n",
    "ax[1].set_ylabel('Irradiance \\n[umol photons / m2 / second]',fontsize=10, weight=\"bold\")\n",
    "ax[0].set_xticklabels([])\n",
    "ax[1].set_xticklabels([])\n",
    "ax[1].set_xticks(annual_hours[0:len(annual_hours):int(len(annual_hours)/12-1)])\n",
    "ax[1].set_xticklabels([str(i) for i in xlabels], rotation=45,fontsize=10, weight=\"bold\")"
   ]
  },
  {
   "cell_type": "code",
   "execution_count": null,
   "metadata": {},
   "outputs": [],
   "source": [
    "I = np.zeros(24*365)\n",
    "light_hours = list(range(5,19))\n",
    "for day in days:\n",
    "    for hour in light_hours:\n",
    "        I[(day - 1)*24 + hour] = 0.43 * float(dFI.iloc[day][hour-1]) # 0.43 is PAR constant\n",
    "\n",
    "annual_hours = list(range(1,(366-1)*24+1))\n",
    "f0 = interpolate.interp1d(annual_hours, I,kind = 'linear')"
   ]
  },
  {
   "cell_type": "code",
   "execution_count": null,
   "metadata": {
    "colab": {
     "base_uri": "https://localhost:8080/",
     "height": 277
    },
    "colab_type": "code",
    "executionInfo": {
     "elapsed": 62295,
     "status": "ok",
     "timestamp": 1565466545086,
     "user": {
      "displayName": "Meiron Zollmann",
      "photoUrl": "",
      "userId": "18114482091462006341"
     },
     "user_tz": -180
    },
    "id": "d4VzbZ484iED",
    "inputHidden": false,
    "outputHidden": false,
    "outputId": "6d76a9eb-17b9-400c-de1d-c0cec8fc215c"
   },
   "outputs": [],
   "source": [
    "df1 = x1.parse('Parameters_multi-scale',header=None)\n",
    "\n",
    "# assigmment of parameters to values: \n",
    "for key,val in zip(df1.iloc[:][0],df1.iloc[:][1]):\n",
    "    exec(key + '=val')\n",
    "    print(key,val)\n",
    "\n",
    "n_reactors = np.int(n_reactors)"
   ]
  },
  {
   "cell_type": "code",
   "execution_count": null,
   "metadata": {},
   "outputs": [],
   "source": [
    "# sensitivity analysis definition: examined parameters and value ranges\n",
    "\n",
    "problem = {\n",
    "    'num_vars': 20,\n",
    "    'names': ['Qp','µmax', 'Nintcrit','Nintmax','Nintmin','Ks','Vmax','KI','K0','Ka', 'n','Tmax','Topt','Tmin','λ20','Sopt','Smax','Smin','teta','dilution'],\n",
    "    'bounds': [[300,600],\n",
    "               [0.025, 0.035],\n",
    "               [1.5, 3],\n",
    "               [3.2,4.5],\n",
    "               [0.5,0.7],\n",
    "               [10,30],\n",
    "               [50,250],\n",
    "               [15, 150],\n",
    "               [0.1,3],\n",
    "               [0.01,0.2],\n",
    "               [1, 6],\n",
    "               [29, 32],\n",
    "               [15, 20],\n",
    "               [1,10],\n",
    "               [0.001,0.005],\n",
    "               [15,25],\n",
    "               [40,50],\n",
    "               [0,10],\n",
    "               [0.9,1.2],\n",
    "               [0,0.05]]\n",
    "}\n",
    "print(problem)"
   ]
  },
  {
   "cell_type": "code",
   "execution_count": null,
   "metadata": {},
   "outputs": [],
   "source": [
    "n_reactors = 100"
   ]
  },
  {
   "cell_type": "code",
   "execution_count": null,
   "metadata": {},
   "outputs": [],
   "source": [
    "# number of examined values per parameter - 10\n",
    "param_values = saltelli.sample(problem, 10)\n",
    "print(param_values.shape)"
   ]
  },
  {
   "cell_type": "code",
   "execution_count": null,
   "metadata": {},
   "outputs": [],
   "source": [
    "print(param_values)"
   ]
  },
  {
   "cell_type": "code",
   "execution_count": null,
   "metadata": {},
   "outputs": [],
   "source": [
    "# 4 seasons - one cultivation period (14 days) per season\n",
    "\n",
    "Y1 = np.zeros([param_values.shape[0]])\n",
    "Y2 = np.zeros([param_values.shape[0]])\n",
    "Y3 = np.zeros([param_values.shape[0]])\n",
    "evaluate_model1 = []\n",
    "evaluate_model2 = []\n",
    "evaluate_model3 = []\n",
    "x0 = n_reactors*[Nsea, Next0, Nint0, m0]\n",
    "resolution = 1 # 1 out of how many cages is presented?\n",
    "dilution = 0\n",
    "weeks = [1, 9, 32, 46]\n",
    "seasons = ['Winter', 'Spring', 'Summer','Automn']\n",
    "k = 0\n",
    "for j, X in enumerate(param_values):\n",
    "    Qp = X[0]\n",
    "    miu = X[1]\n",
    "    Nintcrit = X[2]\n",
    "    Nintmax = X[3]\n",
    "    Nintmin = X[4]\n",
    "    Ks = X[5]\n",
    "    Vmax = X[6]\n",
    "    KI = X[7]\n",
    "    K0 = X[8]\n",
    "    Ka = X[9]\n",
    "    n = X[10]\n",
    "    Tmax = X[11]\n",
    "    Topt = X[12]\n",
    "    Tmin = X[13]\n",
    "    losses20 = X[14]\n",
    "    Sopt = X[15]\n",
    "    Smax = X[16]\n",
    "    Smin = X[17]\n",
    "    teta = X[18]\n",
    "    dilution = X[19]\n",
    "    \n",
    "    Total_biomass = []\n",
    "    Total_N = []\n",
    "    NSEA, NEXT, NINT, M, Total_N, T = [],[],[],[],[],[]\n",
    "    NSEA_F = []\n",
    "        \n",
    "    for week0 in weeks:\n",
    "        t0 = 10 + 7 * 24 * (week0-1)\n",
    "        t = list(range(t0,t0 + int(n_days*24)))\n",
    "        times = list(range(t0,t0 + int(n_days*24)))\n",
    "        args = (Nintcrit,Nintmax,Nintmin,Vmax,Ks,KN,miu,S,Z,KI,K0,Ka,Topt,Tmin,Tmax,losses20,\n",
    "                teta,Sopt,Smin,Smax, Qp, Qsea, Nsea,f1,f0,dilution,n,umol_to_percent_DW)\n",
    "\n",
    "        # solve the ODEs using the new syntax\n",
    "        sol = solve_ivp(multi_N_f_un, [t[0], t[-1]], x0, args=args, t_eval = t)\n",
    "\n",
    "        # take the solution of the state variables:\n",
    "        M_farm, N_farm = [],[]\n",
    "        for i in range(n_reactors):\n",
    "            NSEA.append(sol.y[i*4,:])\n",
    "            NEXT.append(sol.y[i*4+1,:])\n",
    "            NINT.append(sol.y[i*4+2,:])\n",
    "            M.append(sol.y[i*4+3,:])\n",
    "            M_farm.append((M[-1][-1] - m0) * 1.785) # 1.785 is cage volume\n",
    "            N_farm.append((M[-1][-1] * NINT[-1][-1] * 1.785 / 100)) # unit conversion to N removal\n",
    "        Total_biomass.append(round(sum(M_farm),3))\n",
    "        Total_N.append(round(sum(N_farm),4))\n",
    "        NSEA_F.append(round(NSEA[-1][-1],3))\n",
    "        T.append(sol.t)\n",
    "\n",
    "        NSEA, NEXT, NINT, M, N_farm, T = [],[],[],[],[],[]\n",
    "        x0 = n_reactors*[Nsea, Next0, Nint0, m0]\n",
    "    evaluate_model1.append(np.sum(Total_biomass))\n",
    "    evaluate_model2.append(np.sum(Total_N))\n",
    "    evaluate_model3.append(np.mean(NSEA_F))                       \n",
    "    Y1[j] = round(evaluate_model1[-1],4)\n",
    "    Y2[j] = round(evaluate_model2[-1],4)\n",
    "    Y3[j] = round(evaluate_model3[-1],4)\n",
    "    print(k)\n",
    "    k = k+1"
   ]
  },
  {
   "cell_type": "code",
   "execution_count": null,
   "metadata": {},
   "outputs": [],
   "source": [
    "print(min(Y1))\n",
    "print(np.mean(Y1))\n",
    "print(np.std(Y1))\n",
    "print(np.median(Y1))\n",
    "print(max(Y1))"
   ]
  },
  {
   "cell_type": "code",
   "execution_count": null,
   "metadata": {},
   "outputs": [],
   "source": [
    "Si1 = sobol.analyze(problem, Y1,print_to_console=True)"
   ]
  },
  {
   "cell_type": "code",
   "execution_count": null,
   "metadata": {},
   "outputs": [],
   "source": [
    "print(min(Y2))\n",
    "print(np.mean(Y2))\n",
    "print(np.std(Y2))\n",
    "print(np.median(Y2))\n",
    "print(max(Y2))"
   ]
  },
  {
   "cell_type": "code",
   "execution_count": null,
   "metadata": {},
   "outputs": [],
   "source": [
    "Si2 = sobol.analyze(problem, Y2,print_to_console=True)"
   ]
  },
  {
   "cell_type": "code",
   "execution_count": null,
   "metadata": {},
   "outputs": [],
   "source": [
    "print(min(Y3))\n",
    "print(np.mean(Y3))\n",
    "print(np.std(Y3))\n",
    "print(np.median(Y3))\n",
    "print(max(Y3))"
   ]
  },
  {
   "cell_type": "code",
   "execution_count": null,
   "metadata": {},
   "outputs": [],
   "source": [
    "Si3 = sobol.analyze(problem, Y3,print_to_console=True)"
   ]
  },
  {
   "cell_type": "code",
   "execution_count": null,
   "metadata": {},
   "outputs": [],
   "source": [
    "fig,ST2 = plt.subplots(1,1,sharex=True,figsize=(4,5))\n",
    "ST2.plot(Si3['ST'],problem['names'],'s',markersize=5,color='dimgray')\n",
    "ST2.plot(Si2['ST'],problem['names'],'*',markersize=7,color='dodgerblue')\n",
    "ST2.plot(Si1['ST'],problem['names'],'.',markersize=10,color='black')\n",
    "\n",
    "\n",
    "ST2.set_xlabel('Sensitivity Index',fontsize=14, weight=\"bold\")\n",
    "ST2.set_ylabel('Parameter',fontsize=14, weight=\"bold\")\n",
    "ST2.set_xlim([0, 1])\n",
    "ST2.set_axisbelow(True)\n",
    "ST2.yaxis.grid(color='lightgray', linestyle='dashed')\n",
    "ST2.legend(['Environmental N concentration','N sequestration','Biomass production'])\n",
    "\n",
    "\n",
    "name = 'fig3.png' \n",
    "fig.savefig(fname=name, dpi=600)"
   ]
  },
  {
   "cell_type": "code",
   "execution_count": null,
   "metadata": {},
   "outputs": [],
   "source": []
  }
 ],
 "metadata": {
  "colab": {
   "collapsed_sections": [],
   "name": "Meiron_closed_system_simulation.ipynb",
   "provenance": [
    {
     "file_id": "1uKvJsJ-_1-aLrYIrSnGQNnOsG9l8ysjY",
     "timestamp": 1561926275385
    }
   ],
   "version": "0.3.2"
  },
  "kernel_info": {
   "name": "python3"
  },
  "kernelspec": {
   "display_name": "Python [conda env:multiscale_ulva] *",
   "language": "python",
   "name": "conda-env-multiscale_ulva-py"
  },
  "language_info": {
   "codemirror_mode": {
    "name": "ipython",
    "version": 3
   },
   "file_extension": ".py",
   "mimetype": "text/x-python",
   "name": "python",
   "nbconvert_exporter": "python",
   "pygments_lexer": "ipython3",
   "version": "3.8.5"
  },
  "nteract": {
   "version": "0.15.0"
  }
 },
 "nbformat": 4,
 "nbformat_minor": 4
}
